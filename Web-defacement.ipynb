{
 "cells": [
  {
   "cell_type": "code",
   "execution_count": null,
   "metadata": {
    "colab": {
     "base_uri": "https://localhost:8080/"
    },
    "executionInfo": {
     "elapsed": 18987,
     "status": "ok",
     "timestamp": 1749228354333,
     "user": {
      "displayName": "Huy Lê Quang",
      "userId": "09827593801531559497"
     },
     "user_tz": -420
    },
    "id": "XzHa4FMKyad6",
    "outputId": "f42b6aba-1abe-4ac7-f894-274fcf482418"
   },
   "outputs": [
    {
     "name": "stdout",
     "output_type": "stream",
     "text": [
      "Mounted at /content/drive/\n"
     ]
    }
   ],
   "source": [
    "from google.colab import drive\n",
    "drive.mount('/content/drive/')"
   ]
  },
  {
   "cell_type": "markdown",
   "metadata": {
    "id": "Rf8LKmzT4b_x"
   },
   "source": [
    "## Read file `.csv`"
   ]
  },
  {
   "cell_type": "code",
   "execution_count": null,
   "metadata": {
    "id": "VX8uf1Mj4m8v"
   },
   "outputs": [],
   "source": [
    "import pandas as pd\n",
    "from sklearn.feature_extraction.text import TfidfVectorizer\n",
    "\n",
    "train_df = pd.read_csv(\"/content/drive/MyDrive/ColabNotebooks/website_defacement/train_data.csv\")\n",
    "test_df = pd.read_csv(\"/content/drive/MyDrive/ColabNotebooks/website_defacement/test_data.csv\")"
   ]
  },
  {
   "cell_type": "markdown",
   "metadata": {
    "id": "c66b6ed6"
   },
   "source": [
    "## Prepare data\n",
    "\n",
    "Separate the features (X) and the target variable (y) for both the training and testing datasets.\n"
   ]
  },
  {
   "cell_type": "code",
   "execution_count": null,
   "metadata": {
    "colab": {
     "base_uri": "https://localhost:8080/"
    },
    "executionInfo": {
     "elapsed": 22,
     "status": "ok",
     "timestamp": 1749228362267,
     "user": {
      "displayName": "Huy Lê Quang",
      "userId": "09827593801531559497"
     },
     "user_tz": -420
    },
    "id": "57817e60",
    "outputId": "436eb25c-0c8d-4564-a575-aaa65889e3d4"
   },
   "outputs": [
    {
     "name": "stdout",
     "output_type": "stream",
     "text": [
      "Shape of X_train: (1230,)\n",
      "Shape of y_train: (1230,)\n",
      "Shape of X_test: (307,)\n",
      "Shape of y_test: (307,)\n"
     ]
    }
   ],
   "source": [
    "X_train = train_df['HTML']\n",
    "y_train = train_df['Label']\n",
    "X_test = test_df['HTML']\n",
    "y_test = test_df['Label']\n",
    "\n",
    "print(\"Shape of X_train:\", X_train.shape)\n",
    "print(\"Shape of y_train:\", y_train.shape)\n",
    "print(\"Shape of X_test:\", X_test.shape)\n",
    "print(\"Shape of y_test:\", y_test.shape)"
   ]
  },
  {
   "cell_type": "markdown",
   "metadata": {
    "id": "2706178a"
   },
   "source": [
    "## Install lazypredict\n",
    "\n",
    "Install the LazyPredict library if it's not already installed.\n"
   ]
  },
  {
   "cell_type": "code",
   "execution_count": null,
   "metadata": {
    "colab": {
     "base_uri": "https://localhost:8080/"
    },
    "collapsed": true,
    "executionInfo": {
     "elapsed": 15412,
     "status": "ok",
     "timestamp": 1749228382446,
     "user": {
      "displayName": "Huy Lê Quang",
      "userId": "09827593801531559497"
     },
     "user_tz": -420
    },
    "id": "7e9a09d0",
    "outputId": "774280a8-8222-4266-c7f1-06946f49cf19"
   },
   "outputs": [
    {
     "name": "stdout",
     "output_type": "stream",
     "text": [
      "Collecting lazypredict\n",
      "  Downloading lazypredict-0.2.16-py2.py3-none-any.whl.metadata (13 kB)\n",
      "Requirement already satisfied: click in /usr/local/lib/python3.11/dist-packages (from lazypredict) (8.2.1)\n",
      "Requirement already satisfied: scikit-learn in /usr/local/lib/python3.11/dist-packages (from lazypredict) (1.6.1)\n",
      "Requirement already satisfied: pandas in /usr/local/lib/python3.11/dist-packages (from lazypredict) (2.2.2)\n",
      "Requirement already satisfied: tqdm in /usr/local/lib/python3.11/dist-packages (from lazypredict) (4.67.1)\n",
      "Requirement already satisfied: joblib in /usr/local/lib/python3.11/dist-packages (from lazypredict) (1.5.1)\n",
      "Requirement already satisfied: lightgbm in /usr/local/lib/python3.11/dist-packages (from lazypredict) (4.5.0)\n",
      "Requirement already satisfied: xgboost in /usr/local/lib/python3.11/dist-packages (from lazypredict) (2.1.4)\n",
      "Collecting pytest-runner (from lazypredict)\n",
      "  Downloading pytest_runner-6.0.1-py3-none-any.whl.metadata (7.3 kB)\n",
      "Collecting mlflow>=2.0.0 (from lazypredict)\n",
      "  Downloading mlflow-2.22.1-py3-none-any.whl.metadata (30 kB)\n",
      "Collecting mlflow-skinny==2.22.1 (from mlflow>=2.0.0->lazypredict)\n",
      "  Downloading mlflow_skinny-2.22.1-py3-none-any.whl.metadata (31 kB)\n",
      "Requirement already satisfied: Flask<4 in /usr/local/lib/python3.11/dist-packages (from mlflow>=2.0.0->lazypredict) (3.1.1)\n",
      "Requirement already satisfied: Jinja2<4,>=2.11 in /usr/local/lib/python3.11/dist-packages (from mlflow>=2.0.0->lazypredict) (3.1.6)\n",
      "Collecting alembic!=1.10.0,<2 (from mlflow>=2.0.0->lazypredict)\n",
      "  Downloading alembic-1.16.1-py3-none-any.whl.metadata (7.3 kB)\n",
      "Collecting docker<8,>=4.0.0 (from mlflow>=2.0.0->lazypredict)\n",
      "  Downloading docker-7.1.0-py3-none-any.whl.metadata (3.8 kB)\n",
      "Collecting graphene<4 (from mlflow>=2.0.0->lazypredict)\n",
      "  Downloading graphene-3.4.3-py2.py3-none-any.whl.metadata (6.9 kB)\n",
      "Collecting gunicorn<24 (from mlflow>=2.0.0->lazypredict)\n",
      "  Downloading gunicorn-23.0.0-py3-none-any.whl.metadata (4.4 kB)\n",
      "Requirement already satisfied: markdown<4,>=3.3 in /usr/local/lib/python3.11/dist-packages (from mlflow>=2.0.0->lazypredict) (3.8)\n",
      "Requirement already satisfied: matplotlib<4 in /usr/local/lib/python3.11/dist-packages (from mlflow>=2.0.0->lazypredict) (3.10.0)\n",
      "Requirement already satisfied: numpy<3 in /usr/local/lib/python3.11/dist-packages (from mlflow>=2.0.0->lazypredict) (2.0.2)\n",
      "Requirement already satisfied: pyarrow<20,>=4.0.0 in /usr/local/lib/python3.11/dist-packages (from mlflow>=2.0.0->lazypredict) (18.1.0)\n",
      "Requirement already satisfied: scipy<2 in /usr/local/lib/python3.11/dist-packages (from mlflow>=2.0.0->lazypredict) (1.15.3)\n",
      "Requirement already satisfied: sqlalchemy<3,>=1.4.0 in /usr/local/lib/python3.11/dist-packages (from mlflow>=2.0.0->lazypredict) (2.0.41)\n",
      "Requirement already satisfied: cachetools<6,>=5.0.0 in /usr/local/lib/python3.11/dist-packages (from mlflow-skinny==2.22.1->mlflow>=2.0.0->lazypredict) (5.5.2)\n",
      "Requirement already satisfied: cloudpickle<4 in /usr/local/lib/python3.11/dist-packages (from mlflow-skinny==2.22.1->mlflow>=2.0.0->lazypredict) (3.1.1)\n",
      "Collecting databricks-sdk<1,>=0.20.0 (from mlflow-skinny==2.22.1->mlflow>=2.0.0->lazypredict)\n",
      "  Downloading databricks_sdk-0.56.0-py3-none-any.whl.metadata (39 kB)\n",
      "Requirement already satisfied: fastapi<1 in /usr/local/lib/python3.11/dist-packages (from mlflow-skinny==2.22.1->mlflow>=2.0.0->lazypredict) (0.115.12)\n",
      "Requirement already satisfied: gitpython<4,>=3.1.9 in /usr/local/lib/python3.11/dist-packages (from mlflow-skinny==2.22.1->mlflow>=2.0.0->lazypredict) (3.1.44)\n",
      "Requirement already satisfied: importlib_metadata!=4.7.0,<9,>=3.7.0 in /usr/local/lib/python3.11/dist-packages (from mlflow-skinny==2.22.1->mlflow>=2.0.0->lazypredict) (8.7.0)\n",
      "Collecting opentelemetry-api<3,>=1.9.0 (from mlflow-skinny==2.22.1->mlflow>=2.0.0->lazypredict)\n",
      "  Downloading opentelemetry_api-1.34.0-py3-none-any.whl.metadata (1.5 kB)\n",
      "Collecting opentelemetry-sdk<3,>=1.9.0 (from mlflow-skinny==2.22.1->mlflow>=2.0.0->lazypredict)\n",
      "  Downloading opentelemetry_sdk-1.34.0-py3-none-any.whl.metadata (1.6 kB)\n",
      "Requirement already satisfied: packaging<25 in /usr/local/lib/python3.11/dist-packages (from mlflow-skinny==2.22.1->mlflow>=2.0.0->lazypredict) (24.2)\n",
      "Requirement already satisfied: protobuf<7,>=3.12.0 in /usr/local/lib/python3.11/dist-packages (from mlflow-skinny==2.22.1->mlflow>=2.0.0->lazypredict) (5.29.5)\n",
      "Requirement already satisfied: pydantic<3,>=1.10.8 in /usr/local/lib/python3.11/dist-packages (from mlflow-skinny==2.22.1->mlflow>=2.0.0->lazypredict) (2.11.5)\n",
      "Requirement already satisfied: pyyaml<7,>=5.1 in /usr/local/lib/python3.11/dist-packages (from mlflow-skinny==2.22.1->mlflow>=2.0.0->lazypredict) (6.0.2)\n",
      "Requirement already satisfied: requests<3,>=2.17.3 in /usr/local/lib/python3.11/dist-packages (from mlflow-skinny==2.22.1->mlflow>=2.0.0->lazypredict) (2.32.3)\n",
      "Requirement already satisfied: sqlparse<1,>=0.4.0 in /usr/local/lib/python3.11/dist-packages (from mlflow-skinny==2.22.1->mlflow>=2.0.0->lazypredict) (0.5.3)\n",
      "Requirement already satisfied: typing-extensions<5,>=4.0.0 in /usr/local/lib/python3.11/dist-packages (from mlflow-skinny==2.22.1->mlflow>=2.0.0->lazypredict) (4.14.0)\n",
      "Requirement already satisfied: uvicorn<1 in /usr/local/lib/python3.11/dist-packages (from mlflow-skinny==2.22.1->mlflow>=2.0.0->lazypredict) (0.34.3)\n",
      "Requirement already satisfied: python-dateutil>=2.8.2 in /usr/local/lib/python3.11/dist-packages (from pandas->lazypredict) (2.9.0.post0)\n",
      "Requirement already satisfied: pytz>=2020.1 in /usr/local/lib/python3.11/dist-packages (from pandas->lazypredict) (2025.2)\n",
      "Requirement already satisfied: tzdata>=2022.7 in /usr/local/lib/python3.11/dist-packages (from pandas->lazypredict) (2025.2)\n",
      "Requirement already satisfied: threadpoolctl>=3.1.0 in /usr/local/lib/python3.11/dist-packages (from scikit-learn->lazypredict) (3.6.0)\n",
      "Requirement already satisfied: nvidia-nccl-cu12 in /usr/local/lib/python3.11/dist-packages (from xgboost->lazypredict) (2.21.5)\n",
      "Requirement already satisfied: Mako in /usr/lib/python3/dist-packages (from alembic!=1.10.0,<2->mlflow>=2.0.0->lazypredict) (1.1.3)\n",
      "Requirement already satisfied: urllib3>=1.26.0 in /usr/local/lib/python3.11/dist-packages (from docker<8,>=4.0.0->mlflow>=2.0.0->lazypredict) (2.4.0)\n",
      "Requirement already satisfied: blinker>=1.9.0 in /usr/local/lib/python3.11/dist-packages (from Flask<4->mlflow>=2.0.0->lazypredict) (1.9.0)\n",
      "Requirement already satisfied: itsdangerous>=2.2.0 in /usr/local/lib/python3.11/dist-packages (from Flask<4->mlflow>=2.0.0->lazypredict) (2.2.0)\n",
      "Requirement already satisfied: markupsafe>=2.1.1 in /usr/local/lib/python3.11/dist-packages (from Flask<4->mlflow>=2.0.0->lazypredict) (3.0.2)\n",
      "Requirement already satisfied: werkzeug>=3.1.0 in /usr/local/lib/python3.11/dist-packages (from Flask<4->mlflow>=2.0.0->lazypredict) (3.1.3)\n",
      "Collecting graphql-core<3.3,>=3.1 (from graphene<4->mlflow>=2.0.0->lazypredict)\n",
      "  Downloading graphql_core-3.2.6-py3-none-any.whl.metadata (11 kB)\n",
      "Collecting graphql-relay<3.3,>=3.1 (from graphene<4->mlflow>=2.0.0->lazypredict)\n",
      "  Downloading graphql_relay-3.2.0-py3-none-any.whl.metadata (12 kB)\n",
      "Requirement already satisfied: contourpy>=1.0.1 in /usr/local/lib/python3.11/dist-packages (from matplotlib<4->mlflow>=2.0.0->lazypredict) (1.3.2)\n",
      "Requirement already satisfied: cycler>=0.10 in /usr/local/lib/python3.11/dist-packages (from matplotlib<4->mlflow>=2.0.0->lazypredict) (0.12.1)\n",
      "Requirement already satisfied: fonttools>=4.22.0 in /usr/local/lib/python3.11/dist-packages (from matplotlib<4->mlflow>=2.0.0->lazypredict) (4.58.1)\n",
      "Requirement already satisfied: kiwisolver>=1.3.1 in /usr/local/lib/python3.11/dist-packages (from matplotlib<4->mlflow>=2.0.0->lazypredict) (1.4.8)\n",
      "Requirement already satisfied: pillow>=8 in /usr/local/lib/python3.11/dist-packages (from matplotlib<4->mlflow>=2.0.0->lazypredict) (11.2.1)\n",
      "Requirement already satisfied: pyparsing>=2.3.1 in /usr/local/lib/python3.11/dist-packages (from matplotlib<4->mlflow>=2.0.0->lazypredict) (3.2.3)\n",
      "Requirement already satisfied: six>=1.5 in /usr/local/lib/python3.11/dist-packages (from python-dateutil>=2.8.2->pandas->lazypredict) (1.17.0)\n",
      "Requirement already satisfied: greenlet>=1 in /usr/local/lib/python3.11/dist-packages (from sqlalchemy<3,>=1.4.0->mlflow>=2.0.0->lazypredict) (3.2.2)\n",
      "Requirement already satisfied: google-auth~=2.0 in /usr/local/lib/python3.11/dist-packages (from databricks-sdk<1,>=0.20.0->mlflow-skinny==2.22.1->mlflow>=2.0.0->lazypredict) (2.38.0)\n",
      "Requirement already satisfied: starlette<0.47.0,>=0.40.0 in /usr/local/lib/python3.11/dist-packages (from fastapi<1->mlflow-skinny==2.22.1->mlflow>=2.0.0->lazypredict) (0.46.2)\n",
      "Requirement already satisfied: gitdb<5,>=4.0.1 in /usr/local/lib/python3.11/dist-packages (from gitpython<4,>=3.1.9->mlflow-skinny==2.22.1->mlflow>=2.0.0->lazypredict) (4.0.12)\n",
      "Requirement already satisfied: zipp>=3.20 in /usr/local/lib/python3.11/dist-packages (from importlib_metadata!=4.7.0,<9,>=3.7.0->mlflow-skinny==2.22.1->mlflow>=2.0.0->lazypredict) (3.22.0)\n",
      "Collecting opentelemetry-semantic-conventions==0.55b0 (from opentelemetry-sdk<3,>=1.9.0->mlflow-skinny==2.22.1->mlflow>=2.0.0->lazypredict)\n",
      "  Downloading opentelemetry_semantic_conventions-0.55b0-py3-none-any.whl.metadata (2.5 kB)\n",
      "Requirement already satisfied: annotated-types>=0.6.0 in /usr/local/lib/python3.11/dist-packages (from pydantic<3,>=1.10.8->mlflow-skinny==2.22.1->mlflow>=2.0.0->lazypredict) (0.7.0)\n",
      "Requirement already satisfied: pydantic-core==2.33.2 in /usr/local/lib/python3.11/dist-packages (from pydantic<3,>=1.10.8->mlflow-skinny==2.22.1->mlflow>=2.0.0->lazypredict) (2.33.2)\n",
      "Requirement already satisfied: typing-inspection>=0.4.0 in /usr/local/lib/python3.11/dist-packages (from pydantic<3,>=1.10.8->mlflow-skinny==2.22.1->mlflow>=2.0.0->lazypredict) (0.4.1)\n",
      "Requirement already satisfied: charset-normalizer<4,>=2 in /usr/local/lib/python3.11/dist-packages (from requests<3,>=2.17.3->mlflow-skinny==2.22.1->mlflow>=2.0.0->lazypredict) (3.4.2)\n",
      "Requirement already satisfied: idna<4,>=2.5 in /usr/local/lib/python3.11/dist-packages (from requests<3,>=2.17.3->mlflow-skinny==2.22.1->mlflow>=2.0.0->lazypredict) (3.10)\n",
      "Requirement already satisfied: certifi>=2017.4.17 in /usr/local/lib/python3.11/dist-packages (from requests<3,>=2.17.3->mlflow-skinny==2.22.1->mlflow>=2.0.0->lazypredict) (2025.4.26)\n",
      "Requirement already satisfied: h11>=0.8 in /usr/local/lib/python3.11/dist-packages (from uvicorn<1->mlflow-skinny==2.22.1->mlflow>=2.0.0->lazypredict) (0.16.0)\n",
      "Requirement already satisfied: smmap<6,>=3.0.1 in /usr/local/lib/python3.11/dist-packages (from gitdb<5,>=4.0.1->gitpython<4,>=3.1.9->mlflow-skinny==2.22.1->mlflow>=2.0.0->lazypredict) (5.0.2)\n",
      "Requirement already satisfied: pyasn1-modules>=0.2.1 in /usr/local/lib/python3.11/dist-packages (from google-auth~=2.0->databricks-sdk<1,>=0.20.0->mlflow-skinny==2.22.1->mlflow>=2.0.0->lazypredict) (0.4.2)\n",
      "Requirement already satisfied: rsa<5,>=3.1.4 in /usr/local/lib/python3.11/dist-packages (from google-auth~=2.0->databricks-sdk<1,>=0.20.0->mlflow-skinny==2.22.1->mlflow>=2.0.0->lazypredict) (4.9.1)\n",
      "Requirement already satisfied: anyio<5,>=3.6.2 in /usr/local/lib/python3.11/dist-packages (from starlette<0.47.0,>=0.40.0->fastapi<1->mlflow-skinny==2.22.1->mlflow>=2.0.0->lazypredict) (4.9.0)\n",
      "Requirement already satisfied: sniffio>=1.1 in /usr/local/lib/python3.11/dist-packages (from anyio<5,>=3.6.2->starlette<0.47.0,>=0.40.0->fastapi<1->mlflow-skinny==2.22.1->mlflow>=2.0.0->lazypredict) (1.3.1)\n",
      "Requirement already satisfied: pyasn1<0.7.0,>=0.6.1 in /usr/local/lib/python3.11/dist-packages (from pyasn1-modules>=0.2.1->google-auth~=2.0->databricks-sdk<1,>=0.20.0->mlflow-skinny==2.22.1->mlflow>=2.0.0->lazypredict) (0.6.1)\n",
      "Downloading lazypredict-0.2.16-py2.py3-none-any.whl (14 kB)\n",
      "Downloading mlflow-2.22.1-py3-none-any.whl (29.0 MB)\n",
      "\u001b[2K   \u001b[90m━━━━━━━━━━━━━━━━━━━━━━━━━━━━━━━━━━━━━━━━\u001b[0m \u001b[32m29.0/29.0 MB\u001b[0m \u001b[31m63.1 MB/s\u001b[0m eta \u001b[36m0:00:00\u001b[0m\n",
      "\u001b[?25hDownloading mlflow_skinny-2.22.1-py3-none-any.whl (6.3 MB)\n",
      "\u001b[2K   \u001b[90m━━━━━━━━━━━━━━━━━━━━━━━━━━━━━━━━━━━━━━━━\u001b[0m \u001b[32m6.3/6.3 MB\u001b[0m \u001b[31m105.8 MB/s\u001b[0m eta \u001b[36m0:00:00\u001b[0m\n",
      "\u001b[?25hDownloading pytest_runner-6.0.1-py3-none-any.whl (7.2 kB)\n",
      "Downloading alembic-1.16.1-py3-none-any.whl (242 kB)\n",
      "\u001b[2K   \u001b[90m━━━━━━━━━━━━━━━━━━━━━━━━━━━━━━━━━━━━━━━━\u001b[0m \u001b[32m242.5/242.5 kB\u001b[0m \u001b[31m17.6 MB/s\u001b[0m eta \u001b[36m0:00:00\u001b[0m\n",
      "\u001b[?25hDownloading docker-7.1.0-py3-none-any.whl (147 kB)\n",
      "\u001b[2K   \u001b[90m━━━━━━━━━━━━━━━━━━━━━━━━━━━━━━━━━━━━━━━━\u001b[0m \u001b[32m147.8/147.8 kB\u001b[0m \u001b[31m11.5 MB/s\u001b[0m eta \u001b[36m0:00:00\u001b[0m\n",
      "\u001b[?25hDownloading graphene-3.4.3-py2.py3-none-any.whl (114 kB)\n",
      "\u001b[2K   \u001b[90m━━━━━━━━━━━━━━━━━━━━━━━━━━━━━━━━━━━━━━━━\u001b[0m \u001b[32m114.9/114.9 kB\u001b[0m \u001b[31m8.2 MB/s\u001b[0m eta \u001b[36m0:00:00\u001b[0m\n",
      "\u001b[?25hDownloading gunicorn-23.0.0-py3-none-any.whl (85 kB)\n",
      "\u001b[2K   \u001b[90m━━━━━━━━━━━━━━━━━━━━━━━━━━━━━━━━━━━━━━━━\u001b[0m \u001b[32m85.0/85.0 kB\u001b[0m \u001b[31m6.3 MB/s\u001b[0m eta \u001b[36m0:00:00\u001b[0m\n",
      "\u001b[?25hDownloading databricks_sdk-0.56.0-py3-none-any.whl (733 kB)\n",
      "\u001b[2K   \u001b[90m━━━━━━━━━━━━━━━━━━━━━━━━━━━━━━━━━━━━━━━━\u001b[0m \u001b[32m733.7/733.7 kB\u001b[0m \u001b[31m41.7 MB/s\u001b[0m eta \u001b[36m0:00:00\u001b[0m\n",
      "\u001b[?25hDownloading graphql_core-3.2.6-py3-none-any.whl (203 kB)\n",
      "\u001b[2K   \u001b[90m━━━━━━━━━━━━━━━━━━━━━━━━━━━━━━━━━━━━━━━━\u001b[0m \u001b[32m203.4/203.4 kB\u001b[0m \u001b[31m14.3 MB/s\u001b[0m eta \u001b[36m0:00:00\u001b[0m\n",
      "\u001b[?25hDownloading graphql_relay-3.2.0-py3-none-any.whl (16 kB)\n",
      "Downloading opentelemetry_api-1.34.0-py3-none-any.whl (65 kB)\n",
      "\u001b[2K   \u001b[90m━━━━━━━━━━━━━━━━━━━━━━━━━━━━━━━━━━━━━━━━\u001b[0m \u001b[32m65.8/65.8 kB\u001b[0m \u001b[31m4.6 MB/s\u001b[0m eta \u001b[36m0:00:00\u001b[0m\n",
      "\u001b[?25hDownloading opentelemetry_sdk-1.34.0-py3-none-any.whl (118 kB)\n",
      "\u001b[2K   \u001b[90m━━━━━━━━━━━━━━━━━━━━━━━━━━━━━━━━━━━━━━━━\u001b[0m \u001b[32m118.4/118.4 kB\u001b[0m \u001b[31m9.3 MB/s\u001b[0m eta \u001b[36m0:00:00\u001b[0m\n",
      "\u001b[?25hDownloading opentelemetry_semantic_conventions-0.55b0-py3-none-any.whl (196 kB)\n",
      "\u001b[2K   \u001b[90m━━━━━━━━━━━━━━━━━━━━━━━━━━━━━━━━━━━━━━━━\u001b[0m \u001b[32m196.2/196.2 kB\u001b[0m \u001b[31m13.5 MB/s\u001b[0m eta \u001b[36m0:00:00\u001b[0m\n",
      "\u001b[?25hInstalling collected packages: pytest-runner, gunicorn, graphql-core, opentelemetry-api, graphql-relay, docker, alembic, opentelemetry-semantic-conventions, graphene, databricks-sdk, opentelemetry-sdk, mlflow-skinny, mlflow, lazypredict\n",
      "Successfully installed alembic-1.16.1 databricks-sdk-0.56.0 docker-7.1.0 graphene-3.4.3 graphql-core-3.2.6 graphql-relay-3.2.0 gunicorn-23.0.0 lazypredict-0.2.16 mlflow-2.22.1 mlflow-skinny-2.22.1 opentelemetry-api-1.34.0 opentelemetry-sdk-1.34.0 opentelemetry-semantic-conventions-0.55b0 pytest-runner-6.0.1\n"
     ]
    }
   ],
   "source": [
    "%pip install lazypredict"
   ]
  },
  {
   "cell_type": "markdown",
   "metadata": {
    "id": "6526b7ac"
   },
   "source": [
    "## Initialize and run lazypredict\n",
    "\n",
    "Initialize the LazyPredict classifier or regressor and fit it on the training data. Then, evaluate the models on the test data.\n"
   ]
  },
  {
   "cell_type": "code",
   "execution_count": null,
   "metadata": {
    "colab": {
     "base_uri": "https://localhost:8080/",
     "height": 227,
     "referenced_widgets": [
      "e4a0c49dc498444093395314c6b9f3a6",
      "4c7781edf9044d018703bbe79ead8588",
      "9f17f8bc071140a8a7db34c9fa94137e",
      "cfce6e60420d464493852f3e4a311642",
      "95dd8581135b4ecaaa45819264ea5404",
      "fca77203433c427caa1e1a62f4b9afe8",
      "6c3ca3a9a0c14aa1bf6451fddf899463",
      "a3c7fbc71ebf48219d97a1a0257747d9",
      "c55101c0184842b7a902fdcb5e6657b3",
      "e3116b8f069445a28b3b034e41232750",
      "16357a04bd1b4e839cd9cc90e522b8f2"
     ]
    },
    "executionInfo": {
     "elapsed": 28652,
     "status": "ok",
     "timestamp": 1749228413215,
     "user": {
      "displayName": "Huy Lê Quang",
      "userId": "09827593801531559497"
     },
     "user_tz": -420
    },
    "id": "dc7d226f",
    "outputId": "a6531a89-b41e-4b63-af9f-1dbd9b0e4747"
   },
   "outputs": [
    {
     "data": {
      "application/vnd.jupyter.widget-view+json": {
       "model_id": "e4a0c49dc498444093395314c6b9f3a6",
       "version_major": 2,
       "version_minor": 0
      },
      "text/plain": [
       "  0%|          | 0/32 [00:00<?, ?it/s]"
      ]
     },
     "metadata": {},
     "output_type": "display_data"
    },
    {
     "name": "stdout",
     "output_type": "stream",
     "text": [
      "[LightGBM] [Info] Number of positive: 645, number of negative: 585\n",
      "[LightGBM] [Info] Auto-choosing col-wise multi-threading, the overhead of testing was 0.000164 seconds.\n",
      "You can set `force_col_wise=true` to remove the overhead.\n",
      "[LightGBM] [Info] Total Bins 255\n",
      "[LightGBM] [Info] Number of data points in the train set: 1230, number of used features: 1\n",
      "[LightGBM] [Info] [binary:BoostFromScore]: pavg=0.524390 -> initscore=0.097638\n",
      "[LightGBM] [Info] Start training from score 0.097638\n",
      "Empty DataFrame\n",
      "Columns: [Accuracy, Balanced Accuracy, ROC AUC, F1 Score, Time Taken]\n",
      "Index: []\n"
     ]
    }
   ],
   "source": [
    "from lazypredict.Supervised import LazyClassifier\n",
    "import pandas as pd # Import pandas to use DataFrame\n",
    "\n",
    "clf = LazyClassifier(verbose=0, ignore_warnings=True, custom_metric=None)\n",
    "\n",
    "# Convert Series to DataFrames\n",
    "X_train_df = pd.DataFrame(X_train)\n",
    "X_test_df = pd.DataFrame(X_test)\n",
    "\n",
    "models, predictions = clf.fit(X_train_df, X_test_df, y_train, y_test)\n",
    "print(models)"
   ]
  },
  {
   "cell_type": "markdown",
   "metadata": {
    "id": "c1244e8c"
   },
   "source": [
    "## Review results\n",
    "Display and analyze the performance of different models.\n"
   ]
  },
  {
   "cell_type": "code",
   "execution_count": null,
   "metadata": {
    "colab": {
     "base_uri": "https://localhost:8080/",
     "height": 1000,
     "referenced_widgets": [
      "faf7db502ff149598c25e4a333c5fd0f",
      "8c7832dd6dfa433ba0a2261331b96c16",
      "b6e37df9cdeb41ebbcc1a3aa1390192d",
      "fcc2166ef30647c09ce93be018b95851",
      "7f7aff52fd3d40eeb0305ed885f10c74",
      "32188872d59c492bb3321d5a6a442fb2",
      "5cd260261e7f4d038ec29f18002c4978",
      "27ff50fce2b84ad4ae1c232f8bc4b5aa",
      "61b59164b4ab49199be6c8f4fe690e2a",
      "ffcbe8540e6240f99e3f06706f984ffb",
      "55abeae0c10d425a98d84cdef028b9bf"
     ]
    },
    "collapsed": true,
    "executionInfo": {
     "elapsed": 116162,
     "status": "ok",
     "timestamp": 1749228537274,
     "user": {
      "displayName": "Huy Lê Quang",
      "userId": "09827593801531559497"
     },
     "user_tz": -420
    },
    "id": "g7-Y_NEE3DSL",
    "outputId": "52439e6a-a961-4309-d207-331909b9888b"
   },
   "outputs": [
    {
     "data": {
      "application/vnd.jupyter.widget-view+json": {
       "model_id": "faf7db502ff149598c25e4a333c5fd0f",
       "version_major": 2,
       "version_minor": 0
      },
      "text/plain": [
       "  0%|          | 0/32 [00:00<?, ?it/s]"
      ]
     },
     "metadata": {},
     "output_type": "display_data"
    },
    {
     "name": "stdout",
     "output_type": "stream",
     "text": [
      "[LightGBM] [Info] Number of positive: 645, number of negative: 585\n",
      "[LightGBM] [Info] Auto-choosing row-wise multi-threading, the overhead of testing was 0.026830 seconds.\n",
      "You can set `force_row_wise=true` to remove the overhead.\n",
      "And if memory is not enough, you can set `force_col_wise=true`.\n",
      "[LightGBM] [Info] Total Bins 53414\n",
      "[LightGBM] [Info] Number of data points in the train set: 1230, number of used features: 2305\n",
      "[LightGBM] [Info] [binary:BoostFromScore]: pavg=0.524390 -> initscore=0.097638\n",
      "[LightGBM] [Info] Start training from score 0.097638\n",
      "[LightGBM] [Warning] No further splits with positive gain, best gain: -inf\n",
      "[LightGBM] [Warning] No further splits with positive gain, best gain: -inf\n",
      "[LightGBM] [Warning] No further splits with positive gain, best gain: -inf\n",
      "[LightGBM] [Warning] No further splits with positive gain, best gain: -inf\n",
      "[LightGBM] [Warning] No further splits with positive gain, best gain: -inf\n",
      "                               Accuracy  Balanced Accuracy  ROC AUC  F1 Score  \\\n",
      "Model                                                                           \n",
      "CalibratedClassifierCV             1.00               1.00     1.00      1.00   \n",
      "LinearSVC                          1.00               1.00     1.00      1.00   \n",
      "LogisticRegression                 0.99               0.99     0.99      0.99   \n",
      "PassiveAggressiveClassifier        0.99               0.99     0.99      0.99   \n",
      "RidgeClassifier                    0.99               0.99     0.99      0.99   \n",
      "ExtraTreesClassifier               0.99               0.99     0.99      0.99   \n",
      "RidgeClassifierCV                  0.99               0.99     0.99      0.99   \n",
      "BaggingClassifier                  0.98               0.98     0.98      0.98   \n",
      "RandomForestClassifier             0.98               0.98     0.98      0.98   \n",
      "DecisionTreeClassifier             0.98               0.98     0.98      0.98   \n",
      "AdaBoostClassifier                 0.97               0.97     0.97      0.97   \n",
      "LGBMClassifier                     0.97               0.97     0.97      0.97   \n",
      "Perceptron                         0.97               0.97     0.97      0.97   \n",
      "XGBClassifier                      0.97               0.97     0.97      0.97   \n",
      "SGDClassifier                      0.94               0.95     0.95      0.94   \n",
      "NearestCentroid                    0.94               0.94     0.94      0.94   \n",
      "ExtraTreeClassifier                0.94               0.94     0.94      0.94   \n",
      "BernoulliNB                        0.93               0.93     0.93      0.93   \n",
      "LinearDiscriminantAnalysis         0.92               0.92     0.92      0.92   \n",
      "SVC                                0.92               0.92     0.92      0.92   \n",
      "NuSVC                              0.90               0.90     0.90      0.90   \n",
      "GaussianNB                         0.89               0.89     0.89      0.89   \n",
      "QuadraticDiscriminantAnalysis      0.79               0.80     0.80      0.79   \n",
      "LabelPropagation                   0.65               0.67     0.67      0.61   \n",
      "LabelSpreading                     0.65               0.67     0.67      0.61   \n",
      "KNeighborsClassifier               0.56               0.54     0.54      0.45   \n",
      "DummyClassifier                    0.52               0.50     0.50      0.36   \n",
      "\n",
      "                               Time Taken  \n",
      "Model                                      \n",
      "CalibratedClassifierCV              42.34  \n",
      "LinearSVC                           10.68  \n",
      "LogisticRegression                   0.88  \n",
      "PassiveAggressiveClassifier          0.82  \n",
      "RidgeClassifier                      0.90  \n",
      "ExtraTreesClassifier                 2.25  \n",
      "RidgeClassifierCV                    1.53  \n",
      "BaggingClassifier                    1.99  \n",
      "RandomForestClassifier               1.26  \n",
      "DecisionTreeClassifier               0.67  \n",
      "AdaBoostClassifier                  12.64  \n",
      "LGBMClassifier                       2.31  \n",
      "Perceptron                           0.50  \n",
      "XGBClassifier                        8.43  \n",
      "SGDClassifier                        0.58  \n",
      "NearestCentroid                      0.44  \n",
      "ExtraTreeClassifier                  0.36  \n",
      "BernoulliNB                          0.45  \n",
      "LinearDiscriminantAnalysis           6.95  \n",
      "SVC                                  2.37  \n",
      "NuSVC                                5.60  \n",
      "GaussianNB                           0.44  \n",
      "QuadraticDiscriminantAnalysis        6.78  \n",
      "LabelPropagation                     0.88  \n",
      "LabelSpreading                       1.22  \n",
      "KNeighborsClassifier                 0.50  \n",
      "DummyClassifier                      0.34  \n"
     ]
    }
   ],
   "source": [
    "from sklearn.feature_extraction.text import TfidfVectorizer\n",
    "import pandas as pd\n",
    "from lazypredict.Supervised import LazyClassifier\n",
    "import numpy as np # Import numpy for array conversion\n",
    "\n",
    "tfidf = TfidfVectorizer(max_features=5000)\n",
    "X_train_tfidf = tfidf.fit_transform(X_train_df['HTML'])\n",
    "X_test_tfidf = tfidf.transform(X_test_df['HTML'])\n",
    "\n",
    "# Convert sparse matrix to dense array\n",
    "X_train_dense = X_train_tfidf.todense()\n",
    "X_test_dense = X_test_tfidf.todense()\n",
    "\n",
    "clf = LazyClassifier(verbose=0, ignore_warnings=True, custom_metric=None)\n",
    "\n",
    "# Use the dense arrays\n",
    "models, predictions = clf.fit(X_train_dense, X_test_dense, y_train, y_test)\n",
    "\n",
    "print(models)"
   ]
  },
  {
   "cell_type": "markdown",
   "metadata": {
    "id": "NePizEvZKV0X"
   },
   "source": [
    "## Prepare data for training"
   ]
  },
  {
   "cell_type": "code",
   "execution_count": null,
   "metadata": {
    "id": "duJ1Y3DiKTNr"
   },
   "outputs": [],
   "source": [
    "# Tách input và output\n",
    "X_train_raw = train_df['HTML']\n",
    "y_train = train_df['Label']\n",
    "\n",
    "X_test_raw = test_df['HTML']\n",
    "y_test = test_df['Label']\n",
    "\n",
    "# Vector hóa TF-IDF\n",
    "vectorizer = TfidfVectorizer(max_features=5000)\n",
    "X_train = vectorizer.fit_transform(X_train_raw)\n",
    "X_test = vectorizer.transform(X_test_raw)"
   ]
  },
  {
   "cell_type": "markdown",
   "metadata": {
    "id": "yUDTSaJTG1Y6"
   },
   "source": [
    "### Train `RandomForestClassifier`"
   ]
  },
  {
   "cell_type": "code",
   "execution_count": null,
   "metadata": {
    "colab": {
     "base_uri": "https://localhost:8080/"
    },
    "executionInfo": {
     "elapsed": 1228,
     "status": "ok",
     "timestamp": 1749228802107,
     "user": {
      "displayName": "Huy Lê Quang",
      "userId": "09827593801531559497"
     },
     "user_tz": -420
    },
    "id": "RKy0eGIVGPy6",
    "outputId": "22e81186-1685-4331-c839-bb92acf82ed6"
   },
   "outputs": [
    {
     "name": "stdout",
     "output_type": "stream",
     "text": [
      "Random Forest:\n",
      "               precision    recall  f1-score   support\n",
      "\n",
      "           0       0.99      0.97      0.98       147\n",
      "           1       0.97      0.99      0.98       160\n",
      "\n",
      "    accuracy                           0.98       307\n",
      "   macro avg       0.98      0.98      0.98       307\n",
      "weighted avg       0.98      0.98      0.98       307\n",
      "\n"
     ]
    }
   ],
   "source": [
    "from sklearn.ensemble import RandomForestClassifier\n",
    "from sklearn.metrics import classification_report\n",
    "\n",
    "rf = RandomForestClassifier(n_estimators=100, random_state=42)\n",
    "rf.fit(X_train, y_train)\n",
    "\n",
    "y_pred_rf = rf.predict(X_test)\n",
    "print(\"Random Forest:\\n\", classification_report(y_test, y_pred_rf))\n"
   ]
  },
  {
   "cell_type": "markdown",
   "metadata": {
    "id": "vbjRw8U0G8Xq"
   },
   "source": [
    "### train `ExtraTreesClassifier`"
   ]
  },
  {
   "cell_type": "code",
   "execution_count": null,
   "metadata": {
    "colab": {
     "base_uri": "https://localhost:8080/"
    },
    "executionInfo": {
     "elapsed": 608,
     "status": "ok",
     "timestamp": 1749228881313,
     "user": {
      "displayName": "Huy Lê Quang",
      "userId": "09827593801531559497"
     },
     "user_tz": -420
    },
    "id": "UYEyxG6QGPwH",
    "outputId": "f8dd241a-3fbe-42e0-e453-89303f43a862"
   },
   "outputs": [
    {
     "name": "stdout",
     "output_type": "stream",
     "text": [
      "Extra Trees:\n",
      "               precision    recall  f1-score   support\n",
      "\n",
      "           0       0.99      0.98      0.99       147\n",
      "           1       0.98      0.99      0.99       160\n",
      "\n",
      "    accuracy                           0.99       307\n",
      "   macro avg       0.99      0.99      0.99       307\n",
      "weighted avg       0.99      0.99      0.99       307\n",
      "\n"
     ]
    }
   ],
   "source": [
    "from sklearn.ensemble import ExtraTreesClassifier\n",
    "\n",
    "et = ExtraTreesClassifier(n_estimators=100, random_state=42)\n",
    "et.fit(X_train, y_train)\n",
    "\n",
    "y_pred_et = et.predict(X_test)\n",
    "print(\"Extra Trees:\\n\", classification_report(y_test, y_pred_et))\n"
   ]
  },
  {
   "cell_type": "markdown",
   "metadata": {
    "id": "M8ZjkgXmHBYS"
   },
   "source": [
    "### train `lightgbm`"
   ]
  },
  {
   "cell_type": "code",
   "execution_count": null,
   "metadata": {
    "colab": {
     "base_uri": "https://localhost:8080/"
    },
    "executionInfo": {
     "elapsed": 1344,
     "status": "ok",
     "timestamp": 1749228883687,
     "user": {
      "displayName": "Huy Lê Quang",
      "userId": "09827593801531559497"
     },
     "user_tz": -420
    },
    "id": "UxnwWq5_GPtb",
    "outputId": "222f694c-9747-4121-e3a9-735f96a457ab"
   },
   "outputs": [
    {
     "name": "stdout",
     "output_type": "stream",
     "text": [
      "[LightGBM] [Info] Number of positive: 645, number of negative: 585\n",
      "[LightGBM] [Info] Auto-choosing row-wise multi-threading, the overhead of testing was 0.025980 seconds.\n",
      "You can set `force_row_wise=true` to remove the overhead.\n",
      "And if memory is not enough, you can set `force_col_wise=true`.\n",
      "[LightGBM] [Info] Total Bins 50924\n",
      "[LightGBM] [Info] Number of data points in the train set: 1230, number of used features: 2305\n",
      "[LightGBM] [Info] [binary:BoostFromScore]: pavg=0.524390 -> initscore=0.097638\n",
      "[LightGBM] [Info] Start training from score 0.097638\n",
      "[LightGBM] [Warning] No further splits with positive gain, best gain: -inf\n",
      "[LightGBM] [Warning] No further splits with positive gain, best gain: -inf\n",
      "[LightGBM] [Warning] No further splits with positive gain, best gain: -inf\n",
      "[LightGBM] [Warning] No further splits with positive gain, best gain: -inf\n",
      "[LightGBM] [Warning] No further splits with positive gain, best gain: -inf\n",
      "LightGBM:\n",
      "               precision    recall  f1-score   support\n",
      "\n",
      "           0       0.99      0.97      0.98       147\n",
      "           1       0.97      0.99      0.98       160\n",
      "\n",
      "    accuracy                           0.98       307\n",
      "   macro avg       0.98      0.98      0.98       307\n",
      "weighted avg       0.98      0.98      0.98       307\n",
      "\n"
     ]
    }
   ],
   "source": [
    "import lightgbm as lgb\n",
    "\n",
    "lgbm = lgb.LGBMClassifier(n_estimators=100, random_state=42)\n",
    "lgbm.fit(X_train, y_train)\n",
    "\n",
    "y_pred_lgbm = lgbm.predict(X_test)\n",
    "print(\"LightGBM:\\n\", classification_report(y_test, y_pred_lgbm))\n"
   ]
  },
  {
   "cell_type": "markdown",
   "metadata": {
    "id": "CuluGaHYHGxb"
   },
   "source": [
    "### train `xgboost`"
   ]
  },
  {
   "cell_type": "code",
   "execution_count": null,
   "metadata": {
    "colab": {
     "base_uri": "https://localhost:8080/"
    },
    "executionInfo": {
     "elapsed": 4223,
     "status": "ok",
     "timestamp": 1749228890476,
     "user": {
      "displayName": "Huy Lê Quang",
      "userId": "09827593801531559497"
     },
     "user_tz": -420
    },
    "id": "vhpFd-vXGPqs",
    "outputId": "c93229b6-d8e7-418a-b2ac-259e9c588d2a"
   },
   "outputs": [
    {
     "name": "stdout",
     "output_type": "stream",
     "text": [
      "XGBoost:\n",
      "               precision    recall  f1-score   support\n",
      "\n",
      "           0       0.98      0.96      0.97       147\n",
      "           1       0.96      0.98      0.97       160\n",
      "\n",
      "    accuracy                           0.97       307\n",
      "   macro avg       0.97      0.97      0.97       307\n",
      "weighted avg       0.97      0.97      0.97       307\n",
      "\n"
     ]
    }
   ],
   "source": [
    "import xgboost as xgb\n",
    "\n",
    "xgb = xgb.XGBClassifier(use_label_encoder=False, eval_metric='logloss', random_state=42)\n",
    "xgb.fit(X_train, y_train)\n",
    "\n",
    "y_pred_xgb = xgb.predict(X_test)\n",
    "print(\"XGBoost:\\n\", classification_report(y_test, y_pred_xgb))\n"
   ]
  },
  {
   "cell_type": "markdown",
   "metadata": {
    "id": "588NUabAHJQz"
   },
   "source": [
    "## Đối chiếu hiệu năng các model"
   ]
  },
  {
   "cell_type": "code",
   "execution_count": null,
   "metadata": {
    "colab": {
     "base_uri": "https://localhost:8080/"
    },
    "executionInfo": {
     "elapsed": 111,
     "status": "ok",
     "timestamp": 1749228904501,
     "user": {
      "displayName": "Huy Lê Quang",
      "userId": "09827593801531559497"
     },
     "user_tz": -420
    },
    "id": "HmcuKFVPJZpN",
    "outputId": "4735c7cf-f7a8-42b5-8037-6b6a2f544318"
   },
   "outputs": [
    {
     "name": "stdout",
     "output_type": "stream",
     "text": [
      "\n",
      "=== Random Forest ===\n",
      "Accuracy: 0.9804560260586319\n",
      "Precision: 0.9695121951219512\n",
      "Recall: 0.99375\n",
      "F1 Score: 0.9814814814814815\n",
      "\n",
      "=== Extra Trees ===\n",
      "Accuracy: 0.9869706840390879\n",
      "Precision: 0.9814814814814815\n",
      "Recall: 0.99375\n",
      "F1 Score: 0.9875776397515528\n",
      "\n",
      "=== LightGBM ===\n",
      "Accuracy: 0.9771986970684039\n",
      "Precision: 0.9693251533742331\n",
      "Recall: 0.9875\n",
      "F1 Score: 0.978328173374613\n",
      "\n",
      "=== XGBoost ===\n",
      "Accuracy: 0.9706840390879479\n",
      "Precision: 0.9631901840490797\n",
      "Recall: 0.98125\n",
      "F1 Score: 0.9721362229102167\n"
     ]
    }
   ],
   "source": [
    "from sklearn.metrics import accuracy_score, precision_score, recall_score, f1_score\n",
    "\n",
    "models = {\n",
    "    \"Random Forest\": rf,\n",
    "    \"Extra Trees\": et,\n",
    "    \"LightGBM\": lgbm,\n",
    "    \"XGBoost\": xgb\n",
    "}\n",
    "\n",
    "for name, model in models.items():\n",
    "    y_pred = model.predict(X_test)\n",
    "    print(f\"\\n=== {name} ===\")\n",
    "    print(\"Accuracy:\", accuracy_score(y_test, y_pred))\n",
    "    print(\"Precision:\", precision_score(y_test, y_pred))\n",
    "    print(\"Recall:\", recall_score(y_test, y_pred))\n",
    "    print(\"F1 Score:\", f1_score(y_test, y_pred))\n"
   ]
  },
  {
   "cell_type": "markdown",
   "metadata": {
    "id": "Opeb7hFY8Z_D"
   },
   "source": [
    "### Lưu models"
   ]
  },
  {
   "cell_type": "code",
   "execution_count": null,
   "metadata": {
    "colab": {
     "base_uri": "https://localhost:8080/"
    },
    "executionInfo": {
     "elapsed": 485,
     "status": "ok",
     "timestamp": 1748873652494,
     "user": {
      "displayName": "Huy Lê Quang",
      "userId": "09827593801531559497"
     },
     "user_tz": -420
    },
    "id": "iWjU_x-WKFIt",
    "outputId": "14a271ec-b484-4d9e-95e9-b190a76bbeca"
   },
   "outputs": [
    {
     "data": {
      "text/plain": [
       "['./drive/MyDrive/ColabNotebooks/train_model_2/model_xgboost.joblib']"
      ]
     },
     "execution_count": 16,
     "metadata": {},
     "output_type": "execute_result"
    }
   ],
   "source": [
    "import joblib\n",
    "import os\n",
    "\n",
    "output_dir = \"./drive/MyDrive/ColabNotebooks/train_model_2\"\n",
    "os.makedirs(output_dir, exist_ok=True)\n",
    "\n",
    "# Lưu vectorizer\n",
    "joblib.dump(vectorizer, os.path.join(output_dir, \"tfidf_vectorizer.joblib\"))\n",
    "\n",
    "# Lưu từng model\n",
    "joblib.dump(rf, os.path.join(output_dir, \"model_random_forest.joblib\"))\n",
    "joblib.dump(et, os.path.join(output_dir, \"model_extra_trees.joblib\"))\n",
    "joblib.dump(lgbm, os.path.join(output_dir, \"model_lightgbm.joblib\"))\n",
    "joblib.dump(xgb, os.path.join(output_dir, \"model_xgboost.joblib\"))"
   ]
  },
  {
   "cell_type": "markdown",
   "metadata": {
    "id": "_Krkh115_8QK"
   },
   "source": [
    "## Load Model để dùng\n",
    "- xuống local test tiếp ..."
   ]
  }
 ],
 "metadata": {
  "colab": {
   "authorship_tag": "ABX9TyNAWBfUDrLgLXWsYeGlbITF",
   "mount_file_id": "190-K-VBs-Fl4C7i1wvPZveo9E3iEavoP",
   "provenance": []
  },
  "kernelspec": {
   "display_name": "Python 3",
   "name": "python3"
  },
  "language_info": {
   "name": "python"
  },
  "widgets": {
   "application/vnd.jupyter.widget-state+json": {
    "16357a04bd1b4e839cd9cc90e522b8f2": {
     "model_module": "@jupyter-widgets/controls",
     "model_module_version": "1.5.0",
     "model_name": "DescriptionStyleModel",
     "state": {
      "_model_module": "@jupyter-widgets/controls",
      "_model_module_version": "1.5.0",
      "_model_name": "DescriptionStyleModel",
      "_view_count": null,
      "_view_module": "@jupyter-widgets/base",
      "_view_module_version": "1.2.0",
      "_view_name": "StyleView",
      "description_width": ""
     }
    },
    "27ff50fce2b84ad4ae1c232f8bc4b5aa": {
     "model_module": "@jupyter-widgets/base",
     "model_module_version": "1.2.0",
     "model_name": "LayoutModel",
     "state": {
      "_model_module": "@jupyter-widgets/base",
      "_model_module_version": "1.2.0",
      "_model_name": "LayoutModel",
      "_view_count": null,
      "_view_module": "@jupyter-widgets/base",
      "_view_module_version": "1.2.0",
      "_view_name": "LayoutView",
      "align_content": null,
      "align_items": null,
      "align_self": null,
      "border": null,
      "bottom": null,
      "display": null,
      "flex": null,
      "flex_flow": null,
      "grid_area": null,
      "grid_auto_columns": null,
      "grid_auto_flow": null,
      "grid_auto_rows": null,
      "grid_column": null,
      "grid_gap": null,
      "grid_row": null,
      "grid_template_areas": null,
      "grid_template_columns": null,
      "grid_template_rows": null,
      "height": null,
      "justify_content": null,
      "justify_items": null,
      "left": null,
      "margin": null,
      "max_height": null,
      "max_width": null,
      "min_height": null,
      "min_width": null,
      "object_fit": null,
      "object_position": null,
      "order": null,
      "overflow": null,
      "overflow_x": null,
      "overflow_y": null,
      "padding": null,
      "right": null,
      "top": null,
      "visibility": null,
      "width": null
     }
    },
    "32188872d59c492bb3321d5a6a442fb2": {
     "model_module": "@jupyter-widgets/base",
     "model_module_version": "1.2.0",
     "model_name": "LayoutModel",
     "state": {
      "_model_module": "@jupyter-widgets/base",
      "_model_module_version": "1.2.0",
      "_model_name": "LayoutModel",
      "_view_count": null,
      "_view_module": "@jupyter-widgets/base",
      "_view_module_version": "1.2.0",
      "_view_name": "LayoutView",
      "align_content": null,
      "align_items": null,
      "align_self": null,
      "border": null,
      "bottom": null,
      "display": null,
      "flex": null,
      "flex_flow": null,
      "grid_area": null,
      "grid_auto_columns": null,
      "grid_auto_flow": null,
      "grid_auto_rows": null,
      "grid_column": null,
      "grid_gap": null,
      "grid_row": null,
      "grid_template_areas": null,
      "grid_template_columns": null,
      "grid_template_rows": null,
      "height": null,
      "justify_content": null,
      "justify_items": null,
      "left": null,
      "margin": null,
      "max_height": null,
      "max_width": null,
      "min_height": null,
      "min_width": null,
      "object_fit": null,
      "object_position": null,
      "order": null,
      "overflow": null,
      "overflow_x": null,
      "overflow_y": null,
      "padding": null,
      "right": null,
      "top": null,
      "visibility": null,
      "width": null
     }
    },
    "4c7781edf9044d018703bbe79ead8588": {
     "model_module": "@jupyter-widgets/controls",
     "model_module_version": "1.5.0",
     "model_name": "HTMLModel",
     "state": {
      "_dom_classes": [],
      "_model_module": "@jupyter-widgets/controls",
      "_model_module_version": "1.5.0",
      "_model_name": "HTMLModel",
      "_view_count": null,
      "_view_module": "@jupyter-widgets/controls",
      "_view_module_version": "1.5.0",
      "_view_name": "HTMLView",
      "description": "",
      "description_tooltip": null,
      "layout": "IPY_MODEL_fca77203433c427caa1e1a62f4b9afe8",
      "placeholder": "​",
      "style": "IPY_MODEL_6c3ca3a9a0c14aa1bf6451fddf899463",
      "value": "100%"
     }
    },
    "55abeae0c10d425a98d84cdef028b9bf": {
     "model_module": "@jupyter-widgets/controls",
     "model_module_version": "1.5.0",
     "model_name": "DescriptionStyleModel",
     "state": {
      "_model_module": "@jupyter-widgets/controls",
      "_model_module_version": "1.5.0",
      "_model_name": "DescriptionStyleModel",
      "_view_count": null,
      "_view_module": "@jupyter-widgets/base",
      "_view_module_version": "1.2.0",
      "_view_name": "StyleView",
      "description_width": ""
     }
    },
    "5cd260261e7f4d038ec29f18002c4978": {
     "model_module": "@jupyter-widgets/controls",
     "model_module_version": "1.5.0",
     "model_name": "DescriptionStyleModel",
     "state": {
      "_model_module": "@jupyter-widgets/controls",
      "_model_module_version": "1.5.0",
      "_model_name": "DescriptionStyleModel",
      "_view_count": null,
      "_view_module": "@jupyter-widgets/base",
      "_view_module_version": "1.2.0",
      "_view_name": "StyleView",
      "description_width": ""
     }
    },
    "61b59164b4ab49199be6c8f4fe690e2a": {
     "model_module": "@jupyter-widgets/controls",
     "model_module_version": "1.5.0",
     "model_name": "ProgressStyleModel",
     "state": {
      "_model_module": "@jupyter-widgets/controls",
      "_model_module_version": "1.5.0",
      "_model_name": "ProgressStyleModel",
      "_view_count": null,
      "_view_module": "@jupyter-widgets/base",
      "_view_module_version": "1.2.0",
      "_view_name": "StyleView",
      "bar_color": null,
      "description_width": ""
     }
    },
    "6c3ca3a9a0c14aa1bf6451fddf899463": {
     "model_module": "@jupyter-widgets/controls",
     "model_module_version": "1.5.0",
     "model_name": "DescriptionStyleModel",
     "state": {
      "_model_module": "@jupyter-widgets/controls",
      "_model_module_version": "1.5.0",
      "_model_name": "DescriptionStyleModel",
      "_view_count": null,
      "_view_module": "@jupyter-widgets/base",
      "_view_module_version": "1.2.0",
      "_view_name": "StyleView",
      "description_width": ""
     }
    },
    "7f7aff52fd3d40eeb0305ed885f10c74": {
     "model_module": "@jupyter-widgets/base",
     "model_module_version": "1.2.0",
     "model_name": "LayoutModel",
     "state": {
      "_model_module": "@jupyter-widgets/base",
      "_model_module_version": "1.2.0",
      "_model_name": "LayoutModel",
      "_view_count": null,
      "_view_module": "@jupyter-widgets/base",
      "_view_module_version": "1.2.0",
      "_view_name": "LayoutView",
      "align_content": null,
      "align_items": null,
      "align_self": null,
      "border": null,
      "bottom": null,
      "display": null,
      "flex": null,
      "flex_flow": null,
      "grid_area": null,
      "grid_auto_columns": null,
      "grid_auto_flow": null,
      "grid_auto_rows": null,
      "grid_column": null,
      "grid_gap": null,
      "grid_row": null,
      "grid_template_areas": null,
      "grid_template_columns": null,
      "grid_template_rows": null,
      "height": null,
      "justify_content": null,
      "justify_items": null,
      "left": null,
      "margin": null,
      "max_height": null,
      "max_width": null,
      "min_height": null,
      "min_width": null,
      "object_fit": null,
      "object_position": null,
      "order": null,
      "overflow": null,
      "overflow_x": null,
      "overflow_y": null,
      "padding": null,
      "right": null,
      "top": null,
      "visibility": null,
      "width": null
     }
    },
    "8c7832dd6dfa433ba0a2261331b96c16": {
     "model_module": "@jupyter-widgets/controls",
     "model_module_version": "1.5.0",
     "model_name": "HTMLModel",
     "state": {
      "_dom_classes": [],
      "_model_module": "@jupyter-widgets/controls",
      "_model_module_version": "1.5.0",
      "_model_name": "HTMLModel",
      "_view_count": null,
      "_view_module": "@jupyter-widgets/controls",
      "_view_module_version": "1.5.0",
      "_view_name": "HTMLView",
      "description": "",
      "description_tooltip": null,
      "layout": "IPY_MODEL_32188872d59c492bb3321d5a6a442fb2",
      "placeholder": "​",
      "style": "IPY_MODEL_5cd260261e7f4d038ec29f18002c4978",
      "value": "100%"
     }
    },
    "95dd8581135b4ecaaa45819264ea5404": {
     "model_module": "@jupyter-widgets/base",
     "model_module_version": "1.2.0",
     "model_name": "LayoutModel",
     "state": {
      "_model_module": "@jupyter-widgets/base",
      "_model_module_version": "1.2.0",
      "_model_name": "LayoutModel",
      "_view_count": null,
      "_view_module": "@jupyter-widgets/base",
      "_view_module_version": "1.2.0",
      "_view_name": "LayoutView",
      "align_content": null,
      "align_items": null,
      "align_self": null,
      "border": null,
      "bottom": null,
      "display": null,
      "flex": null,
      "flex_flow": null,
      "grid_area": null,
      "grid_auto_columns": null,
      "grid_auto_flow": null,
      "grid_auto_rows": null,
      "grid_column": null,
      "grid_gap": null,
      "grid_row": null,
      "grid_template_areas": null,
      "grid_template_columns": null,
      "grid_template_rows": null,
      "height": null,
      "justify_content": null,
      "justify_items": null,
      "left": null,
      "margin": null,
      "max_height": null,
      "max_width": null,
      "min_height": null,
      "min_width": null,
      "object_fit": null,
      "object_position": null,
      "order": null,
      "overflow": null,
      "overflow_x": null,
      "overflow_y": null,
      "padding": null,
      "right": null,
      "top": null,
      "visibility": null,
      "width": null
     }
    },
    "9f17f8bc071140a8a7db34c9fa94137e": {
     "model_module": "@jupyter-widgets/controls",
     "model_module_version": "1.5.0",
     "model_name": "FloatProgressModel",
     "state": {
      "_dom_classes": [],
      "_model_module": "@jupyter-widgets/controls",
      "_model_module_version": "1.5.0",
      "_model_name": "FloatProgressModel",
      "_view_count": null,
      "_view_module": "@jupyter-widgets/controls",
      "_view_module_version": "1.5.0",
      "_view_name": "ProgressView",
      "bar_style": "success",
      "description": "",
      "description_tooltip": null,
      "layout": "IPY_MODEL_a3c7fbc71ebf48219d97a1a0257747d9",
      "max": 32,
      "min": 0,
      "orientation": "horizontal",
      "style": "IPY_MODEL_c55101c0184842b7a902fdcb5e6657b3",
      "value": 32
     }
    },
    "a3c7fbc71ebf48219d97a1a0257747d9": {
     "model_module": "@jupyter-widgets/base",
     "model_module_version": "1.2.0",
     "model_name": "LayoutModel",
     "state": {
      "_model_module": "@jupyter-widgets/base",
      "_model_module_version": "1.2.0",
      "_model_name": "LayoutModel",
      "_view_count": null,
      "_view_module": "@jupyter-widgets/base",
      "_view_module_version": "1.2.0",
      "_view_name": "LayoutView",
      "align_content": null,
      "align_items": null,
      "align_self": null,
      "border": null,
      "bottom": null,
      "display": null,
      "flex": null,
      "flex_flow": null,
      "grid_area": null,
      "grid_auto_columns": null,
      "grid_auto_flow": null,
      "grid_auto_rows": null,
      "grid_column": null,
      "grid_gap": null,
      "grid_row": null,
      "grid_template_areas": null,
      "grid_template_columns": null,
      "grid_template_rows": null,
      "height": null,
      "justify_content": null,
      "justify_items": null,
      "left": null,
      "margin": null,
      "max_height": null,
      "max_width": null,
      "min_height": null,
      "min_width": null,
      "object_fit": null,
      "object_position": null,
      "order": null,
      "overflow": null,
      "overflow_x": null,
      "overflow_y": null,
      "padding": null,
      "right": null,
      "top": null,
      "visibility": null,
      "width": null
     }
    },
    "b6e37df9cdeb41ebbcc1a3aa1390192d": {
     "model_module": "@jupyter-widgets/controls",
     "model_module_version": "1.5.0",
     "model_name": "FloatProgressModel",
     "state": {
      "_dom_classes": [],
      "_model_module": "@jupyter-widgets/controls",
      "_model_module_version": "1.5.0",
      "_model_name": "FloatProgressModel",
      "_view_count": null,
      "_view_module": "@jupyter-widgets/controls",
      "_view_module_version": "1.5.0",
      "_view_name": "ProgressView",
      "bar_style": "success",
      "description": "",
      "description_tooltip": null,
      "layout": "IPY_MODEL_27ff50fce2b84ad4ae1c232f8bc4b5aa",
      "max": 32,
      "min": 0,
      "orientation": "horizontal",
      "style": "IPY_MODEL_61b59164b4ab49199be6c8f4fe690e2a",
      "value": 32
     }
    },
    "c55101c0184842b7a902fdcb5e6657b3": {
     "model_module": "@jupyter-widgets/controls",
     "model_module_version": "1.5.0",
     "model_name": "ProgressStyleModel",
     "state": {
      "_model_module": "@jupyter-widgets/controls",
      "_model_module_version": "1.5.0",
      "_model_name": "ProgressStyleModel",
      "_view_count": null,
      "_view_module": "@jupyter-widgets/base",
      "_view_module_version": "1.2.0",
      "_view_name": "StyleView",
      "bar_color": null,
      "description_width": ""
     }
    },
    "cfce6e60420d464493852f3e4a311642": {
     "model_module": "@jupyter-widgets/controls",
     "model_module_version": "1.5.0",
     "model_name": "HTMLModel",
     "state": {
      "_dom_classes": [],
      "_model_module": "@jupyter-widgets/controls",
      "_model_module_version": "1.5.0",
      "_model_name": "HTMLModel",
      "_view_count": null,
      "_view_module": "@jupyter-widgets/controls",
      "_view_module_version": "1.5.0",
      "_view_name": "HTMLView",
      "description": "",
      "description_tooltip": null,
      "layout": "IPY_MODEL_e3116b8f069445a28b3b034e41232750",
      "placeholder": "​",
      "style": "IPY_MODEL_16357a04bd1b4e839cd9cc90e522b8f2",
      "value": " 32/32 [00:03&lt;00:00,  9.80it/s]"
     }
    },
    "e3116b8f069445a28b3b034e41232750": {
     "model_module": "@jupyter-widgets/base",
     "model_module_version": "1.2.0",
     "model_name": "LayoutModel",
     "state": {
      "_model_module": "@jupyter-widgets/base",
      "_model_module_version": "1.2.0",
      "_model_name": "LayoutModel",
      "_view_count": null,
      "_view_module": "@jupyter-widgets/base",
      "_view_module_version": "1.2.0",
      "_view_name": "LayoutView",
      "align_content": null,
      "align_items": null,
      "align_self": null,
      "border": null,
      "bottom": null,
      "display": null,
      "flex": null,
      "flex_flow": null,
      "grid_area": null,
      "grid_auto_columns": null,
      "grid_auto_flow": null,
      "grid_auto_rows": null,
      "grid_column": null,
      "grid_gap": null,
      "grid_row": null,
      "grid_template_areas": null,
      "grid_template_columns": null,
      "grid_template_rows": null,
      "height": null,
      "justify_content": null,
      "justify_items": null,
      "left": null,
      "margin": null,
      "max_height": null,
      "max_width": null,
      "min_height": null,
      "min_width": null,
      "object_fit": null,
      "object_position": null,
      "order": null,
      "overflow": null,
      "overflow_x": null,
      "overflow_y": null,
      "padding": null,
      "right": null,
      "top": null,
      "visibility": null,
      "width": null
     }
    },
    "e4a0c49dc498444093395314c6b9f3a6": {
     "model_module": "@jupyter-widgets/controls",
     "model_module_version": "1.5.0",
     "model_name": "HBoxModel",
     "state": {
      "_dom_classes": [],
      "_model_module": "@jupyter-widgets/controls",
      "_model_module_version": "1.5.0",
      "_model_name": "HBoxModel",
      "_view_count": null,
      "_view_module": "@jupyter-widgets/controls",
      "_view_module_version": "1.5.0",
      "_view_name": "HBoxView",
      "box_style": "",
      "children": [
       "IPY_MODEL_4c7781edf9044d018703bbe79ead8588",
       "IPY_MODEL_9f17f8bc071140a8a7db34c9fa94137e",
       "IPY_MODEL_cfce6e60420d464493852f3e4a311642"
      ],
      "layout": "IPY_MODEL_95dd8581135b4ecaaa45819264ea5404"
     }
    },
    "faf7db502ff149598c25e4a333c5fd0f": {
     "model_module": "@jupyter-widgets/controls",
     "model_module_version": "1.5.0",
     "model_name": "HBoxModel",
     "state": {
      "_dom_classes": [],
      "_model_module": "@jupyter-widgets/controls",
      "_model_module_version": "1.5.0",
      "_model_name": "HBoxModel",
      "_view_count": null,
      "_view_module": "@jupyter-widgets/controls",
      "_view_module_version": "1.5.0",
      "_view_name": "HBoxView",
      "box_style": "",
      "children": [
       "IPY_MODEL_8c7832dd6dfa433ba0a2261331b96c16",
       "IPY_MODEL_b6e37df9cdeb41ebbcc1a3aa1390192d",
       "IPY_MODEL_fcc2166ef30647c09ce93be018b95851"
      ],
      "layout": "IPY_MODEL_7f7aff52fd3d40eeb0305ed885f10c74"
     }
    },
    "fca77203433c427caa1e1a62f4b9afe8": {
     "model_module": "@jupyter-widgets/base",
     "model_module_version": "1.2.0",
     "model_name": "LayoutModel",
     "state": {
      "_model_module": "@jupyter-widgets/base",
      "_model_module_version": "1.2.0",
      "_model_name": "LayoutModel",
      "_view_count": null,
      "_view_module": "@jupyter-widgets/base",
      "_view_module_version": "1.2.0",
      "_view_name": "LayoutView",
      "align_content": null,
      "align_items": null,
      "align_self": null,
      "border": null,
      "bottom": null,
      "display": null,
      "flex": null,
      "flex_flow": null,
      "grid_area": null,
      "grid_auto_columns": null,
      "grid_auto_flow": null,
      "grid_auto_rows": null,
      "grid_column": null,
      "grid_gap": null,
      "grid_row": null,
      "grid_template_areas": null,
      "grid_template_columns": null,
      "grid_template_rows": null,
      "height": null,
      "justify_content": null,
      "justify_items": null,
      "left": null,
      "margin": null,
      "max_height": null,
      "max_width": null,
      "min_height": null,
      "min_width": null,
      "object_fit": null,
      "object_position": null,
      "order": null,
      "overflow": null,
      "overflow_x": null,
      "overflow_y": null,
      "padding": null,
      "right": null,
      "top": null,
      "visibility": null,
      "width": null
     }
    },
    "fcc2166ef30647c09ce93be018b95851": {
     "model_module": "@jupyter-widgets/controls",
     "model_module_version": "1.5.0",
     "model_name": "HTMLModel",
     "state": {
      "_dom_classes": [],
      "_model_module": "@jupyter-widgets/controls",
      "_model_module_version": "1.5.0",
      "_model_name": "HTMLModel",
      "_view_count": null,
      "_view_module": "@jupyter-widgets/controls",
      "_view_module_version": "1.5.0",
      "_view_name": "HTMLView",
      "description": "",
      "description_tooltip": null,
      "layout": "IPY_MODEL_ffcbe8540e6240f99e3f06706f984ffb",
      "placeholder": "​",
      "style": "IPY_MODEL_55abeae0c10d425a98d84cdef028b9bf",
      "value": " 32/32 [01:55&lt;00:00,  2.21s/it]"
     }
    },
    "ffcbe8540e6240f99e3f06706f984ffb": {
     "model_module": "@jupyter-widgets/base",
     "model_module_version": "1.2.0",
     "model_name": "LayoutModel",
     "state": {
      "_model_module": "@jupyter-widgets/base",
      "_model_module_version": "1.2.0",
      "_model_name": "LayoutModel",
      "_view_count": null,
      "_view_module": "@jupyter-widgets/base",
      "_view_module_version": "1.2.0",
      "_view_name": "LayoutView",
      "align_content": null,
      "align_items": null,
      "align_self": null,
      "border": null,
      "bottom": null,
      "display": null,
      "flex": null,
      "flex_flow": null,
      "grid_area": null,
      "grid_auto_columns": null,
      "grid_auto_flow": null,
      "grid_auto_rows": null,
      "grid_column": null,
      "grid_gap": null,
      "grid_row": null,
      "grid_template_areas": null,
      "grid_template_columns": null,
      "grid_template_rows": null,
      "height": null,
      "justify_content": null,
      "justify_items": null,
      "left": null,
      "margin": null,
      "max_height": null,
      "max_width": null,
      "min_height": null,
      "min_width": null,
      "object_fit": null,
      "object_position": null,
      "order": null,
      "overflow": null,
      "overflow_x": null,
      "overflow_y": null,
      "padding": null,
      "right": null,
      "top": null,
      "visibility": null,
      "width": null
     }
    }
   }
  }
 },
 "nbformat": 4,
 "nbformat_minor": 0
}
